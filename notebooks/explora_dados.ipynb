{
 "cells": [
  {
   "cell_type": "code",
   "execution_count": 1,
   "metadata": {
    "collapsed": true
   },
   "outputs": [],
   "source": [
    "import pandas as pd\n",
    "import feather\n"
   ]
  },
  {
   "cell_type": "code",
   "execution_count": 9,
   "outputs": [],
   "source": [
    "def processa_dados():\n",
    "    dados_voos = feather.read_dataframe('../dados/dados_basicos_voos.feather')\n",
    "    dados_aeroportos = pd.read_excel('../dados/glossario_de_aerodromo.xls', skiprows=3)\n",
    "\n",
    "    dados_aeroportos = dados_aeroportos.drop(['Unnamed: 0','País', 'Continente'], axis=1)\n",
    "    dados_aeroportos.rename(columns={'Sigla OACI': 'ICAO Aeródromo Origem', 'Descrição': 'Nome Aeroporto'}, inplace=True)\n",
    "\n",
    "    dados_voos = pd.merge(dados_voos, dados_aeroportos, on=['ICAO Aeródromo Origem'])\n",
    "    return dados_voos\n"
   ],
   "metadata": {
    "collapsed": false,
    "pycharm": {
     "name": "#%%\n"
    }
   }
  },
  {
   "cell_type": "code",
   "execution_count": 10,
   "outputs": [],
   "source": [
    "df = processa_dados()"
   ],
   "metadata": {
    "collapsed": false,
    "pycharm": {
     "name": "#%%\n"
    }
   }
  },
  {
   "cell_type": "code",
   "execution_count": 11,
   "outputs": [
    {
     "data": {
      "text/plain": "  ICAO Empresa Aérea  Número Voo ICAO Aeródromo Origem  Nome Aeroporto  \\\n0                AZU        2684                  SBCF  TANCREDO NEVES   \n1                AZU        2411                  SBCF  TANCREDO NEVES   \n2                AZU        2413                  SBCF  TANCREDO NEVES   \n3                AZU        2415                  SBCF  TANCREDO NEVES   \n4                AZU        2416                  SBCF  TANCREDO NEVES   \n\n    Cidade  UF  \n0  CONFINS  MG  \n1  CONFINS  MG  \n2  CONFINS  MG  \n3  CONFINS  MG  \n4  CONFINS  MG  ",
      "text/html": "<div>\n<style scoped>\n    .dataframe tbody tr th:only-of-type {\n        vertical-align: middle;\n    }\n\n    .dataframe tbody tr th {\n        vertical-align: top;\n    }\n\n    .dataframe thead th {\n        text-align: right;\n    }\n</style>\n<table border=\"1\" class=\"dataframe\">\n  <thead>\n    <tr style=\"text-align: right;\">\n      <th></th>\n      <th>ICAO Empresa Aérea</th>\n      <th>Número Voo</th>\n      <th>ICAO Aeródromo Origem</th>\n      <th>Nome Aeroporto</th>\n      <th>Cidade</th>\n      <th>UF</th>\n    </tr>\n  </thead>\n  <tbody>\n    <tr>\n      <th>0</th>\n      <td>AZU</td>\n      <td>2684</td>\n      <td>SBCF</td>\n      <td>TANCREDO NEVES</td>\n      <td>CONFINS</td>\n      <td>MG</td>\n    </tr>\n    <tr>\n      <th>1</th>\n      <td>AZU</td>\n      <td>2411</td>\n      <td>SBCF</td>\n      <td>TANCREDO NEVES</td>\n      <td>CONFINS</td>\n      <td>MG</td>\n    </tr>\n    <tr>\n      <th>2</th>\n      <td>AZU</td>\n      <td>2413</td>\n      <td>SBCF</td>\n      <td>TANCREDO NEVES</td>\n      <td>CONFINS</td>\n      <td>MG</td>\n    </tr>\n    <tr>\n      <th>3</th>\n      <td>AZU</td>\n      <td>2415</td>\n      <td>SBCF</td>\n      <td>TANCREDO NEVES</td>\n      <td>CONFINS</td>\n      <td>MG</td>\n    </tr>\n    <tr>\n      <th>4</th>\n      <td>AZU</td>\n      <td>2416</td>\n      <td>SBCF</td>\n      <td>TANCREDO NEVES</td>\n      <td>CONFINS</td>\n      <td>MG</td>\n    </tr>\n  </tbody>\n</table>\n</div>"
     },
     "execution_count": 11,
     "metadata": {},
     "output_type": "execute_result"
    }
   ],
   "source": [
    "df.head()"
   ],
   "metadata": {
    "collapsed": false,
    "pycharm": {
     "name": "#%%\n"
    }
   }
  },
  {
   "cell_type": "code",
   "execution_count": 8,
   "outputs": [],
   "source": [],
   "metadata": {
    "collapsed": false,
    "pycharm": {
     "name": "#%%\n"
    }
   }
  },
  {
   "cell_type": "code",
   "execution_count": null,
   "outputs": [],
   "source": [],
   "metadata": {
    "collapsed": false,
    "pycharm": {
     "name": "#%%\n"
    }
   }
  }
 ],
 "metadata": {
  "kernelspec": {
   "display_name": "Python 3",
   "language": "python",
   "name": "python3"
  },
  "language_info": {
   "codemirror_mode": {
    "name": "ipython",
    "version": 2
   },
   "file_extension": ".py",
   "mimetype": "text/x-python",
   "name": "python",
   "nbconvert_exporter": "python",
   "pygments_lexer": "ipython2",
   "version": "2.7.6"
  }
 },
 "nbformat": 4,
 "nbformat_minor": 0
}